{
 "cells": [
  {
   "cell_type": "code",
   "execution_count": null,
   "id": "e66f3180-3c48-44b7-a228-93fc4885cbcc",
   "metadata": {},
   "outputs": [],
   "source": [
    "!pip install faiss-cpu\n",
    "!pip install sentence-transformers"
   ]
  },
  {
   "cell_type": "code",
   "execution_count": null,
   "id": "fd68559e-cf9f-44a0-925f-ae6e40607b02",
   "metadata": {},
   "outputs": [],
   "source": [
    "import pandas as pd\n",
    "\n",
    "pd.set_option('display.max_colwidth', 100) # increase the column size of pandas dataframe"
   ]
  },
  {
   "cell_type": "code",
   "execution_count": null,
   "id": "00bd9606-a956-4670-851d-8b651d15f21d",
   "metadata": {
    "scrolled": true
   },
   "outputs": [],
   "source": [
    "df = pd.read_csv(\"sample_data.csv\")\n",
    "df.shape"
   ]
  },
  {
   "cell_type": "code",
   "execution_count": null,
   "id": "3bc78be3-0bf6-41ce-9718-a24e0150ac0b",
   "metadata": {},
   "outputs": [],
   "source": [
    "df"
   ]
  },
  {
   "cell_type": "code",
   "execution_count": null,
   "id": "cd858cfd-b42a-4338-bf82-212c090a921b",
   "metadata": {},
   "outputs": [],
   "source": [
    "from sentence_transformers import SentenceTransformer"
   ]
  },
  {
   "cell_type": "code",
   "execution_count": null,
   "id": "32024db6-26a7-4d53-893c-8e5fdc147059",
   "metadata": {},
   "outputs": [],
   "source": [
    "encoder = SentenceTransformer(\"all-mpnet-base-v2\") # calculate ecludiean distance\n",
    "vectors = encoder.encode(df.text) # create embeddings/vector of each text in df\n",
    "vectors.shape # each vector length is 768"
   ]
  },
  {
   "cell_type": "code",
   "execution_count": null,
   "id": "4b2e47b5-b659-41fe-acb3-9a0a9ab02afc",
   "metadata": {},
   "outputs": [],
   "source": [
    "vectors"
   ]
  },
  {
   "cell_type": "code",
   "execution_count": null,
   "id": "4758282b-e5f9-4daf-9bb6-5336dffb8dfa",
   "metadata": {},
   "outputs": [],
   "source": [
    "dim = vectors.shape[1]\n",
    "dim"
   ]
  },
  {
   "cell_type": "code",
   "execution_count": null,
   "id": "2e37ca3c-42d9-4679-a2a2-1266d2e5a047",
   "metadata": {},
   "outputs": [],
   "source": [
    "import faiss"
   ]
  },
  {
   "cell_type": "code",
   "execution_count": null,
   "id": "aa464e9e-5f7f-43ad-a2b7-16cb03875d1c",
   "metadata": {},
   "outputs": [],
   "source": [
    "index = faiss.IndexFlatL2(dim) # create index/database index for faster searching and retrieval\n",
    "index"
   ]
  },
  {
   "cell_type": "code",
   "execution_count": null,
   "id": "940fd090-9073-484b-ab06-d48f926a7200",
   "metadata": {},
   "outputs": [],
   "source": [
    "index.add(vectors)"
   ]
  },
  {
   "cell_type": "code",
   "execution_count": null,
   "id": "8c749805-b1c4-43f0-807f-bacf1a6a47fb",
   "metadata": {},
   "outputs": [],
   "source": [
    "#search_query = \"I want to buy a nike t-shirt\"\n",
    "search_query = \"An apple a day keeps the doctor away\"\n",
    "\n",
    "vector_searchquery = encoder.encode(search_query) # create embedding/vector of search query.\n",
    "vector_searchquery.shape # length is 768 of vector search query"
   ]
  },
  {
   "cell_type": "code",
   "execution_count": null,
   "id": "6c00b54c-7353-4747-a134-020a1eb1beda",
   "metadata": {},
   "outputs": [],
   "source": [
    "import numpy as np\n",
    "sq_vector = np.array(vector_searchquery).reshape(1, -1) # create 2 dimension array\n",
    "sq_vector.shape"
   ]
  },
  {
   "cell_type": "code",
   "execution_count": null,
   "id": "279a09dd-87a7-4071-8990-27cbbd9c70dd",
   "metadata": {},
   "outputs": [],
   "source": [
    "sq_vector"
   ]
  },
  {
   "cell_type": "code",
   "execution_count": null,
   "id": "ca485943-5abf-4a44-87fb-1382ecc9677a",
   "metadata": {},
   "outputs": [],
   "source": [
    "ecludiean_dist, I = index.search(sq_vector, k=2) # search, search query vector in index database (faiss database) and how many you want similar vectors (k). This method needs 2 dimension array so above we create 2 dim array of search query vector."
   ]
  },
  {
   "cell_type": "code",
   "execution_count": null,
   "id": "5fe4e563-0675-4504-8b34-e61d4635f379",
   "metadata": {},
   "outputs": [],
   "source": [
    "ecludiean_dist"
   ]
  },
  {
   "cell_type": "code",
   "execution_count": null,
   "id": "57887071-9740-41d2-8aee-944d288ddda3",
   "metadata": {},
   "outputs": [],
   "source": [
    "I # this have position/index with respect to original dataframe of two similar vectors. "
   ]
  },
  {
   "cell_type": "code",
   "execution_count": null,
   "id": "d250a508-2c19-40c3-bf21-8c9b68d27da8",
   "metadata": {},
   "outputs": [],
   "source": [
    "df.loc[I[0]] # df.loc[[1, 0]]"
   ]
  },
  {
   "cell_type": "code",
   "execution_count": null,
   "id": "b7f078f2-7c00-4233-836a-432496760920",
   "metadata": {},
   "outputs": [],
   "source": []
  }
 ],
 "metadata": {
  "kernelspec": {
   "display_name": "torch_kernel",
   "language": "python",
   "name": "torch_kernel"
  },
  "language_info": {
   "codemirror_mode": {
    "name": "ipython",
    "version": 3
   },
   "file_extension": ".py",
   "mimetype": "text/x-python",
   "name": "python",
   "nbconvert_exporter": "python",
   "pygments_lexer": "ipython3",
   "version": "3.11.5"
  }
 },
 "nbformat": 4,
 "nbformat_minor": 5
}
