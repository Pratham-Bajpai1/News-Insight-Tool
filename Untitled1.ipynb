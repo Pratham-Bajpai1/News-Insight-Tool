{
 "cells": [
  {
   "cell_type": "code",
   "execution_count": 9,
   "id": "6186bdb1-6df7-4716-bb39-0f49e2be0bb9",
   "metadata": {},
   "outputs": [],
   "source": [
    "from my_keys import openapi_key"
   ]
  },
  {
   "cell_type": "code",
   "execution_count": 10,
   "id": "50f972d4-d071-4784-a6a2-6b1f08b56f3d",
   "metadata": {},
   "outputs": [],
   "source": [
    "import os\n",
    "import streamlit as st\n",
    "import pickle\n",
    "import time\n",
    "import langchain\n",
    "from langchain_openai import OpenAI\n",
    "from langchain.chains import RetrievalQAWithSourcesChain\n",
    "from langchain.chains.qa_with_sources.loading import load_qa_with_sources_chain\n",
    "from langchain.text_splitter import RecursiveCharacterTextSplitter\n",
    "from langchain_community.document_loaders import SeleniumURLLoader\n",
    "from langchain_openai import OpenAIEmbeddings\n",
    "from langchain_community.vectorstores import FAISS"
   ]
  },
  {
   "cell_type": "code",
   "execution_count": 12,
   "id": "b10bbd62-3e37-429d-baa1-f90740acce36",
   "metadata": {},
   "outputs": [],
   "source": [
    "os.environ['OPENAI_API_KEY'] = openapi_key"
   ]
  },
  {
   "cell_type": "code",
   "execution_count": 13,
   "id": "cc133a10-89dd-4a2b-a32d-d2adf77454dc",
   "metadata": {},
   "outputs": [
    {
     "data": {
      "text/plain": [
       "2"
      ]
     },
     "execution_count": 13,
     "metadata": {},
     "output_type": "execute_result"
    }
   ],
   "source": [
    "# Initialise LLM with required parameters.\n",
    "llm = OpenAI(temperature=0.9, max_tokens=500)\n",
    "\n",
    "loader = SeleniumURLLoader(urls=[\n",
    "    \"https://www.moneycontrol.com/news/business/markets/wall-street-rises-as-tesla-soars-on-ai-optimism-11351111.html\",\n",
    "    \"https://www.moneycontrol.com/news/business/tata-motors-launches-punch-icng-price-starts-at-rs-7-1-lakh-11098751.html\"\n",
    "])\n",
    "data = loader.load()\n",
    "len(data)"
   ]
  },
  {
   "cell_type": "code",
   "execution_count": 14,
   "id": "b3229163-ea8b-42c5-9c49-e0c1e737b8c6",
   "metadata": {},
   "outputs": [
    {
     "data": {
      "text/plain": [
       "36"
      ]
     },
     "execution_count": 14,
     "metadata": {},
     "output_type": "execute_result"
    }
   ],
   "source": [
    "text_splitter = RecursiveCharacterTextSplitter(\n",
    "    chunk_size = 1000,\n",
    "    chunk_overlap = 200\n",
    ")\n",
    "\n",
    "# As data is of type documents we can directly use split_documents over split_text in order to get the chunks.\n",
    "docs = text_splitter.split_documents(data)\n",
    "len(docs)"
   ]
  },
  {
   "cell_type": "code",
   "execution_count": 15,
   "id": "00d6ce99-26d9-4bcf-8b28-c29d5433abc8",
   "metadata": {},
   "outputs": [
    {
     "data": {
      "text/plain": [
       "Document(page_content='English\\n\\nHindi\\n\\nGujarati\\n\\nSpecials\\n\\nMoneycontrol Trending Stock\\n\\nInfosys\\xa0INE009A01021, INFY, 500209\\n\\nState Bank of India\\xa0INE062A01020, SBIN, 500112\\n\\nYes Bank\\xa0INE528G01027, YESBANK, 532648\\n\\nBank Nifty\\n\\nNifty 500\\n\\nQuotes\\n\\nMutual Funds\\n\\nCommodities\\n\\nFutures & Options\\n\\nCurrency\\n\\nNews\\n\\nCryptocurrency\\n\\nForum\\n\\nNotices\\n\\nVideos\\n\\nGlossary\\n\\nAll\\n\\nHello, LoginLog-inor Sign-UpMy AccountMy Profile My PortfolioMy WatchlistFREE Credit Score₹100 Cash RewardMy AlertsMy MessagesPrice AlertsChat with UsDownload AppFollow us on:\\n\\nPremium\\n\\nMy Alerts', metadata={'source': 'https://www.moneycontrol.com/news/business/markets/wall-street-rises-as-tesla-soars-on-ai-optimism-11351111.html', 'title': 'Wall Street rises as Tesla soars on AI optimism', 'description': 'Tesla (TSLA.O) rallied 10% after Morgan Stanley upgraded the electric car maker to ', 'language': 'en'})"
      ]
     },
     "execution_count": 15,
     "metadata": {},
     "output_type": "execute_result"
    }
   ],
   "source": [
    "# now above method is give 36 chunks.\n",
    "docs[0]"
   ]
  },
  {
   "cell_type": "code",
   "execution_count": 16,
   "id": "4b6f8e19-7e8f-4807-801f-a8370d86c36d",
   "metadata": {},
   "outputs": [
    {
     "data": {
      "text/plain": [
       "Document(page_content='Go Ad-Free\\n\\nBusiness\\n\\nMarkets\\n\\nStocks\\n\\nEconomy\\n\\nCompanies\\n\\nTrends\\n\\nIPO\\n\\nOpinion\\n\\nEV Special\\n\\nHome\\n\\nNews\\n\\nBusiness\\n\\nMarkets\\n\\nWall Street rises as Tesla soars on AI optimism\\n\\nTesla (TSLA.O) rallied 10% after Morgan Stanley upgraded the electric car maker to \"overweight\" from \"equal-weight,\" saying its Dojo supercomputer could boost the company\\'s market value by nearly $600 billion.\\n\\nReuters\\n\\nSeptember 12, 2023 / 06:56 AM IST\\n\\n\\n\\n\\n\\n\\n\\n\\n\\n\\n\\n\\n\\nWall Street rises as Tesla soars on AI optimism\\n\\nThe Nasdaq closed sharply higher on Monday as Tesla surged on optimism around artificial intelligence and investors awaited inflation data due later this week.\\n\\nTesla\\xa0(TSLA.O)\\xa0rallied 10% after Morgan Stanley\\xa0upgraded\\xa0the electric car maker to \"overweight\" from \"equal-weight,\" saying its Dojo supercomputer could boost the company\\'s market value by nearly $600 billion.\\n\\nStory continues below Advertisement\\n\\nRemove Ad', metadata={'source': 'https://www.moneycontrol.com/news/business/markets/wall-street-rises-as-tesla-soars-on-ai-optimism-11351111.html', 'title': 'Wall Street rises as Tesla soars on AI optimism', 'description': 'Tesla (TSLA.O) rallied 10% after Morgan Stanley upgraded the electric car maker to ', 'language': 'en'})"
      ]
     },
     "execution_count": 16,
     "metadata": {},
     "output_type": "execute_result"
    }
   ],
   "source": [
    "docs[9]"
   ]
  },
  {
   "cell_type": "markdown",
   "id": "9048176d-22be-4cef-93ec-bd8feafb7f9e",
   "metadata": {},
   "source": [
    "embeddings = OpenAIEmbeddings()\n",
    "\n",
    "vectorindex_openai = FAISS.from_documents(docs, embeddings)"
   ]
  },
  {
   "cell_type": "raw",
   "id": "0c2fa9e4-5a19-4ee6-a24b-927d14fb77a6",
   "metadata": {},
   "source": [
    "from sentence_transformers import SentenceTransformer"
   ]
  },
  {
   "cell_type": "raw",
   "id": "b60f9556-4880-484c-a63a-0ac2c1b4a5cf",
   "metadata": {},
   "source": [
    "encoder = SentenceTransformer(\"all-mpnet-base-v2\") # calculate ecludiean distance\n",
    "vectors = encoder.encode(docs) # create embeddings/vector of each text in df\n",
    "vectors.shape # each vector length is 768"
   ]
  },
  {
   "cell_type": "code",
   "execution_count": null,
   "id": "4e331856-89ad-4917-bd6c-bac9d4c82954",
   "metadata": {},
   "outputs": [],
   "source": []
  }
 ],
 "metadata": {
  "kernelspec": {
   "display_name": "Python 3 (ipykernel)",
   "language": "python",
   "name": "python3"
  },
  "language_info": {
   "codemirror_mode": {
    "name": "ipython",
    "version": 3
   },
   "file_extension": ".py",
   "mimetype": "text/x-python",
   "name": "python",
   "nbconvert_exporter": "python",
   "pygments_lexer": "ipython3",
   "version": "3.11.5"
  }
 },
 "nbformat": 4,
 "nbformat_minor": 5
}
